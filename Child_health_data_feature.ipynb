{
  "nbformat": 4,
  "nbformat_minor": 0,
  "metadata": {
    "colab": {
      "provenance": [],
      "authorship_tag": "ABX9TyOqicKGYN2euf2cPaJnDGjx",
      "include_colab_link": true
    },
    "kernelspec": {
      "name": "python3",
      "display_name": "Python 3"
    },
    "language_info": {
      "name": "python"
    }
  },
  "cells": [
    {
      "cell_type": "markdown",
      "metadata": {
        "id": "view-in-github",
        "colab_type": "text"
      },
      "source": [
        "<a href=\"https://colab.research.google.com/github/dimash-web/child-health-data-feature/blob/main/Child_health_data_feature.ipynb\" target=\"_parent\"><img src=\"https://colab.research.google.com/assets/colab-badge.svg\" alt=\"Open In Colab\"/></a>"
      ]
    },
    {
      "cell_type": "markdown",
      "source": [
        "# Data Feature: Child Health Data\n",
        "\n",
        "This feature allows a user to pick a metric related to children's welfare, like mortality rate, nutrition, etc. Then, we use the APIs to displays the related welfare stats of all countries on an interactive world map and a tableview.\n",
        "\n",
        "## We will use two APIs:\n",
        "\n",
        "The World Health Organization API to access specific metrics of children's welfare around the world.\n",
        "An API to convert the country codes provided by the WHO into country names.\n",
        "\n",
        "The API setup does not involve adding API Keys into the SECRETS tab.\n",
        "\n",
        "## WORLD HEALTH ORGANIZATION API Usage:\n",
        "\n",
        "Display all indicators related to children's welfare. Allow user to choose 1.\n",
        "Input the indicator code as a parameter to retrieve the stats\n",
        "Sort stats from high to low"
      ],
      "metadata": {
        "id": "83Gx3ihwUg1a"
      }
    },
    {
      "cell_type": "code",
      "execution_count": null,
      "metadata": {
        "id": "gebsWHKeQeqd"
      },
      "outputs": [],
      "source": [
        "#import necessary libraries\n",
        "import requests\n",
        "import json\n",
        "import pandas as pd\n",
        "\n",
        "#search for all indicators pertaining to \"Children\" through the filter endpoint to select 1 indicator of interest.\n",
        "url = f\"https://ghoapi.azureedge.net/api/Indicator?$filter=contains(IndicatorName,'Children')\"\n",
        "response = requests.get(url)\n",
        "if response.status_code == 200:\n",
        " data = response.json()\n",
        " print(\"Status: Successful!\")\n",
        " print(data)\n",
        " print(json.dumps(data, indent=4))\n",
        "else:\n",
        "  print(\"Error\")\n",
        "\n",
        "  def display_indicators(data): #allow user to choose their metric of interest through a catalog\n",
        "  indicators = data['value']\n",
        "  for idx, indicator in enumerate(indicators):\n",
        "    print(f\"{idx + 1}: {indicator['IndicatorName']}\")\n",
        "  choice = int(input(\"\\nEnter the number of the indicator you want to select: \")) - 1\n",
        "  if 0 <= choice < len(indicators):\n",
        "    selected_indicator = indicators[choice]\n",
        "    print(f\"\\nYou selected: {selected_indicator['IndicatorName']}\")\n",
        "    print(f\"Indicator Code: {selected_indicator['IndicatorCode']}\")\n",
        "    return selected_indicator['IndicatorCode'], selected_indicator['IndicatorName']\n",
        "  else:\n",
        "    print(\"You must choose a valid number!\")\n",
        "\n",
        "indicator_code, indicator_name = display_indicators(data)\n",
        "\n",
        "indicator_code\n",
        "\n",
        "# chose \"Morality rate among children ages 10 to 14 years (per 1000 children aged 10)\"\n",
        "def get_data(indicator_code):\n",
        " url = f'https://ghoapi.azureedge.net/api/{indicator_code}'\n",
        " response = requests.get(url)\n",
        " if response.status_code == 200:\n",
        "  print(\"Status: Successful!\")\n",
        "  data = response.json()\n",
        "  print(json.dumps(data,indent=4))\n",
        "  return data\n",
        " else:\n",
        "  print(\"Error\")\n",
        "\n",
        "data = get_data(indicator_code)\n",
        "\n",
        "def process_data(data): #process_data is used to\n",
        "    spatial_values = {}  #create an empty dictionary to later store spatial_dim (key) - numeric_value (value)\n",
        "    for entry in data['value']: #loop through each country\n",
        "     #if 'SpatialDim' in entry and 'NumericValue' in entry: #just in case these keys don't appear, but they do appear\n",
        "     spatial_dim = entry['SpatialDim'] #retrieve the country code (its key name is SpatialDim)\n",
        "     numeric_value = entry['NumericValue'] #retrieve the child mortality rate\n",
        "     if spatial_dim not in spatial_values:\n",
        "       spatial_values[spatial_dim] = numeric_value #append each country code and mortality rate to the dictionary\n",
        "\n",
        "#sort by mortality rate in descending manner using the dictionary above\n",
        "    sorted_spatial_values = sorted(spatial_values.items(), key=lambda x: x[1], reverse=True)\n",
        "    return sorted_spatial_values\n",
        "\n",
        "#call on the function\n",
        "sorted_spatial_data = process_data(data)\n",
        "\n",
        "#testing\n",
        "for spatial_dim, value in sorted_spatial_data:\n",
        "  print(f\"Country Code: {spatial_dim}, {indicator_name}: {value:.2f}\")\n"
      ]
    },
    {
      "cell_type": "markdown",
      "source": [
        "## REST COUNTRIES API USAGE:\n",
        "\n",
        "Convert Country Code into Country Name (since WHO does not provide Country Name)\n",
        "Then Merge with the output from WHO API."
      ],
      "metadata": {
        "id": "Yqape0ZRkFp2"
      }
    },
    {
      "cell_type": "code",
      "source": [
        "country_codes = [] #create an empty list to store country codes\n",
        "for spatial_dim, _ in sorted_spatial_data: #separate country code from mortality rate in spatial_dim\n",
        "    country_codes.append(spatial_dim)\n",
        "\n",
        "print(\"Country Codes:\", country_codes)\n",
        "\n",
        "\n",
        "def get_countries_name(sorted_spatial_data): #decode country code into country name\n",
        "    #use the all endpoint to fetch all attributes of a country (including name, code, etc.)\n",
        "    url = 'https://restcountries.com/v3.1/all'\n",
        "    response = requests.get(url)\n",
        "    data = response.json()\n",
        "\n",
        "    #create a mapping from country codes to country names\n",
        "    country_code_map = {}\n",
        "    for country in data:\n",
        "     country_code_map[country['cca3']] = country['name']['common']\n",
        "    return country_code_map\n",
        "\n",
        "\n",
        "def merge_data(sorted_spatial_data): #merge results from 2 apis to get final output\n",
        "  rows = []\n",
        "  country_code_map = get_countries_name(sorted_spatial_data)\n",
        "  for spatial_dim, value in sorted_spatial_data:\n",
        "    country_name = country_code_map.get(spatial_dim, \"Unknown\")\n",
        "    rows.append({'Country Name': country_name, 'Country Code': spatial_dim, indicator_name: value})\n",
        "    print(f\"Country Code: {spatial_dim}, Country Name: {country_name}, {indicator_name}: {value:.2f} \")\n",
        "  df = pd.DataFrame(rows)\n",
        "  return df\n",
        "\n",
        "sorted_spatial_data = process_data(data)\n",
        "df = merge_data(sorted_spatial_data)\n",
        "\n",
        "#create a clean tableview of countryname, countrycode, and their respective child moratlity rate\n",
        "print(df)\n",
        "\n",
        "#final output\n",
        "import plotly.express as px\n",
        "import numpy as np\n",
        "import pandas as pd\n",
        "\n",
        "country_codes = df['Country Code']\n",
        "values = df[indicator_name]\n",
        "\n",
        "# Create the choropleth map\n",
        "fig = px.choropleth(\n",
        "    df,\n",
        "    locations='Country Code',\n",
        "    locationmode='ISO-3',  # Use 'ISO-3' for ISO 3166-1 alpha-3 country codes\n",
        "    color= indicator_name,\n",
        "    color_continuous_scale='Viridis',\n",
        "    title= indicator_name\n",
        ")\n",
        "\n",
        "# Update layout to enlarge the graph\n",
        "fig.update_layout(\n",
        "    width=1400,  # Set width (e.g., 1200 pixels)\n",
        "    height=800   # Set height (e.g., 800 pixels)\n",
        ")\n",
        "\n",
        "# Show the figure\n",
        "fig.show()\n",
        "\n",
        "#display df\n",
        "pd.set_option('display.max_rows', None)  # or a specific number like 1000\n",
        "pd.set_option('display.max_columns', None)  # or a specific number like 50\n",
        "df"
      ],
      "metadata": {
        "id": "7kwV9HG3kHRP"
      },
      "execution_count": null,
      "outputs": []
    }
  ]
}
